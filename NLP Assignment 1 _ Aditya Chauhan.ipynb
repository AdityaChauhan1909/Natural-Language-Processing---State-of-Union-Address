{
 "cells": [
  {
   "cell_type": "code",
   "execution_count": 1,
   "metadata": {
    "collapsed": true
   },
   "outputs": [],
   "source": [
    "import nltk"
   ]
  },
  {
   "cell_type": "code",
   "execution_count": 2,
   "metadata": {
    "collapsed": true
   },
   "outputs": [],
   "source": [
    "from nltk.corpus import PlaintextCorpusReader"
   ]
  },
  {
   "cell_type": "code",
   "execution_count": 3,
   "metadata": {
    "collapsed": true
   },
   "outputs": [],
   "source": [
    "mycorpus= PlaintextCorpusReader('.', '.*\\.txt')"
   ]
  },
  {
   "cell_type": "code",
   "execution_count": 4,
   "metadata": {
    "collapsed": true
   },
   "outputs": [],
   "source": [
    "state_union_part1 = mycorpus.raw('state_union_part1.txt')"
   ]
  },
  {
   "cell_type": "code",
   "execution_count": 5,
   "metadata": {},
   "outputs": [
    {
     "name": "stderr",
     "output_type": "stream",
     "text": [
      "IOPub data rate exceeded.\n",
      "The notebook server will temporarily stop sending output\n",
      "to the client in order to avoid crashing it.\n",
      "To change this limit, set the config variable\n",
      "`--NotebookApp.iopub_data_rate_limit`.\n"
     ]
    }
   ],
   "source": [
    "state_union_part1"
   ]
  },
  {
   "cell_type": "code",
   "execution_count": 6,
   "metadata": {},
   "outputs": [
    {
     "data": {
      "text/plain": [
       "'The Project Gutenberg EBook of Complete State of the Union Addresses,\\r\\nfrom 1790 to the Present\\r\\n(#4'"
      ]
     },
     "execution_count": 6,
     "metadata": {},
     "output_type": "execute_result"
    }
   ],
   "source": [
    "state_union_part1[:100]"
   ]
  },
  {
   "cell_type": "code",
   "execution_count": 7,
   "metadata": {},
   "outputs": [
    {
     "data": {
      "text/plain": [
       "3137736"
      ]
     },
     "execution_count": 7,
     "metadata": {},
     "output_type": "execute_result"
    }
   ],
   "source": [
    "#Determining the length of the document 1 ( number of alphabets)\n",
    "\n",
    "len(state_union_part1)"
   ]
  },
  {
   "cell_type": "code",
   "execution_count": 11,
   "metadata": {},
   "outputs": [
    {
     "data": {
      "text/plain": [
       "6093"
      ]
     },
     "execution_count": 11,
     "metadata": {},
     "output_type": "execute_result"
    }
   ],
   "source": [
    "\n",
    "state_union_part1.rfind(\"James Buchanan, State of the Union Address, December 3, 1860\")"
   ]
  },
  {
   "cell_type": "code",
   "execution_count": null,
   "metadata": {
    "collapsed": true
   },
   "outputs": [],
   "source": [
    "state_union_part1.readindex"
   ]
  },
  {
   "cell_type": "code",
   "execution_count": 41,
   "metadata": {},
   "outputs": [
    {
     "name": "stdout",
     "output_type": "stream",
     "text": [
      "State of the Union Address\n",
      " 132\n",
      "State of the Union Address\n",
      " 263\n",
      "State of the Union Address\n",
      " 415\n",
      "State of the Union Address\n",
      " 676\n",
      "State of the Union Address\n",
      " 911\n",
      "State of the Union Address\n",
      " 1118\n",
      "State of the Union Address\n",
      " 1419\n",
      "State of the Union Address\n",
      " 1635\n",
      "State of the Union Address\n",
      " 1939\n",
      "State of the Union Address\n",
      " 2155\n",
      "State of the Union Address\n",
      " 2391\n",
      "State of the Union Address\n",
      " 2550\n",
      "State of the Union Address\n",
      " 2704\n",
      "State of the Union Address\n",
      " 3031\n",
      "State of the Union Address\n",
      " 3248\n",
      "State of the Union Address\n",
      " 3483\n",
      "State of the Union Address\n",
      " 3697\n",
      "State of the Union Address\n",
      " 3986\n",
      "State of the Union Address\n",
      " 4275\n",
      "State of the Union Address\n",
      " 4519\n",
      "State of the Union Address\n",
      " 4785\n",
      "State of the Union Address\n",
      " 4973\n",
      "State of the Union Address\n",
      " 5231\n",
      "State of the Union Address\n",
      " 5475\n",
      "State of the Union Address\n",
      " 5811\n",
      "State of the Union Address\n",
      " 6152\n",
      "State of the Union Address\n",
      " 6370\n",
      "State of the Union Address\n",
      " 6694\n",
      "State of the Union Address\n",
      " 7033\n",
      "State of the Union Address\n",
      " 7476\n",
      "State of the Union Address\n",
      " 7924\n",
      "State of the Union Address\n",
      " 8393\n",
      "State of the Union Address\n",
      " 8741\n",
      "State of the Union Address\n",
      " 9312\n",
      "State of the Union Address\n",
      " 9785\n",
      "State of the Union Address\n",
      " 10440\n",
      "State of the Union Address\n",
      " 11274\n",
      "State of the Union Address\n",
      " 12147\n",
      "State of the Union Address\n",
      " 12898\n",
      "State of the Union Address\n",
      " 13590\n",
      "State of the Union Address\n",
      " 14320\n",
      "State of the Union Address\n",
      " 15345\n",
      "State of the Union Address\n",
      " 16829\n",
      "State of the Union Address\n",
      " 17530\n",
      "State of the Union Address\n",
      " 18298\n",
      "State of the Union Address\n",
      " 19069\n",
      "State of the Union Address\n",
      " 20388\n",
      "State of the Union Address\n",
      " 21440\n",
      "State of the Union Address\n",
      " 22644\n",
      "State of the Union Address\n",
      " 23746\n",
      "State of the Union Address\n",
      " 24858\n",
      "State of the Union Address\n",
      " 26125\n",
      "State of the Union Address\n",
      " 26998\n",
      "State of the Union Address\n",
      " 27758\n",
      "State of the Union Address\n",
      " 28535\n",
      "State of the Union Address\n",
      " 29284\n",
      "State of the Union Address\n",
      " 30153\n",
      "State of the Union Address\n",
      " 31655\n",
      "State of the Union Address\n",
      " 33363\n",
      "State of the Union Address\n",
      " 34942\n",
      "State of the Union Address\n",
      " 37016\n",
      "State of the Union Address\n",
      " 37774\n",
      "State of the Union Address\n",
      " 38586\n",
      "State of the Union Address\n",
      " 39901\n",
      "State of the Union Address\n",
      " 40864\n",
      "State of the Union Address\n",
      " 41815\n",
      "State of the Union Address\n",
      " 42771\n",
      "State of the Union Address\n",
      " 43930\n",
      "State of the Union Address\n",
      " 44966\n",
      "State of the Union Address\n",
      " 46298\n",
      "State of the Union Address\n",
      " 47879\n",
      "State of the Union Address\n",
      " 49044\n"
     ]
    }
   ],
   "source": [
    "#The actual content starts after the list of names of the presidents who delivered the speech along \n",
    "#with the year they delivered the speech in.\n",
    "\n",
    "# I searched for the pattern where the line starts with \"State of the Union Address\" and also\n",
    "# instructed python to give me the line number, so that we can start analyzing the text from that line(actual content)\n",
    "\n",
    "import re\n",
    "occurance_state_union_part1 = open(\"state_union_part1.txt\", \"r\")\n",
    "regex = re.compile('(S|s)tate of the Union Address')\n",
    "\n",
    "for line_no, line in enumerate(occurance_state_union_part1):\n",
    "    if re.match(regex, line):\n",
    "        print(line, line_no)\n",
    "occurance_state_union_part1.close()\n"
   ]
  },
  {
   "cell_type": "code",
   "execution_count": 47,
   "metadata": {},
   "outputs": [
    {
     "data": {
      "text/plain": [
       "['State of the Union Address\\n',\n",
       " 'George Washington\\n',\n",
       " 'January 8, 1790\\n',\n",
       " '\\n',\n",
       " 'Fellow-Citizens of the Senate and House of Representatives:\\n',\n",
       " '\\n',\n",
       " 'I embrace with great satisfaction the opportunity which now presents\\n',\n",
       " 'itself of congratulating you on the present favorable prospects of our\\n',\n",
       " 'public affairs. The recent accession of the important state of North\\n',\n",
       " 'Carolina to the Constitution of the United States (of which official\\n']"
      ]
     },
     "execution_count": 47,
     "metadata": {},
     "output_type": "execute_result"
    }
   ],
   "source": [
    "#Filtering the actual content\n",
    "state_union_profile = open(\"state_union_part1.txt\", \"r\")\n",
    "state_union_part1_filtered = state_union_profile.readlines()[132:]\n",
    "state_union_part1_filtered[:10]\n"
   ]
  },
  {
   "cell_type": "code",
   "execution_count": 51,
   "metadata": {
    "collapsed": true
   },
   "outputs": [],
   "source": [
    "#Closing the file\n",
    "state_union_profile.close()"
   ]
  },
  {
   "cell_type": "code",
   "execution_count": 56,
   "metadata": {},
   "outputs": [],
   "source": [
    "#Exporting the filtered file to a new file\n",
    "state_union_part1_filtered = ''.join(state_union_part1_filtered)\n",
    "file = open(\"state_union_part1_filtered.txt\",\"w\")\n",
    "file.write(state_union_part1_filtered)\n",
    "file.close()"
   ]
  },
  {
   "cell_type": "code",
   "execution_count": 57,
   "metadata": {},
   "outputs": [],
   "source": [
    "mycorpus= PlaintextCorpusReader('.', '.*\\.txt')\n",
    "state_union_part1_filtered_ = mycorpus.raw('state_union_part1_filtered.txt')"
   ]
  },
  {
   "cell_type": "code",
   "execution_count": 59,
   "metadata": {},
   "outputs": [
    {
     "data": {
      "text/plain": [
       "'State of t'"
      ]
     },
     "execution_count": 59,
     "metadata": {},
     "output_type": "execute_result"
    }
   ],
   "source": [
    "state_union_part1_filtered_[:10]"
   ]
  },
  {
   "cell_type": "code",
   "execution_count": 68,
   "metadata": {},
   "outputs": [
    {
     "data": {
      "text/plain": [
       "3131568"
      ]
     },
     "execution_count": 68,
     "metadata": {},
     "output_type": "execute_result"
    }
   ],
   "source": [
    "#Length of the filtered document\n",
    "len(state_union_part1_filtered_)"
   ]
  },
  {
   "cell_type": "markdown",
   "metadata": {},
   "source": [
    "# Tokenizing"
   ]
  },
  {
   "cell_type": "code",
   "execution_count": 116,
   "metadata": {},
   "outputs": [],
   "source": [
    "state_union_part1_filtered_tokens = word_tokenize(state_union_part1_filtered_)"
   ]
  },
  {
   "cell_type": "code",
   "execution_count": 117,
   "metadata": {},
   "outputs": [
    {
     "data": {
      "text/plain": [
       "['State',\n",
       " 'of',\n",
       " 'the',\n",
       " 'Union',\n",
       " 'Address',\n",
       " 'George',\n",
       " 'Washington',\n",
       " 'January',\n",
       " '8',\n",
       " ',']"
      ]
     },
     "execution_count": 117,
     "metadata": {},
     "output_type": "execute_result"
    }
   ],
   "source": [
    "state_union_part1_filtered_tokens[:10]"
   ]
  },
  {
   "cell_type": "code",
   "execution_count": 118,
   "metadata": {},
   "outputs": [
    {
     "data": {
      "text/plain": [
       "556723"
      ]
     },
     "execution_count": 118,
     "metadata": {},
     "output_type": "execute_result"
    }
   ],
   "source": [
    "len(state_union_part1_filtered_tokens)"
   ]
  },
  {
   "cell_type": "markdown",
   "metadata": {},
   "source": [
    "# Changing the content to lowercase"
   ]
  },
  {
   "cell_type": "code",
   "execution_count": 119,
   "metadata": {},
   "outputs": [],
   "source": [
    "#Changing the content to lowercase\n",
    "state_union_part1_filtered_tokens = [w.lower() for w in state_union_part1_filtered_tokens]"
   ]
  },
  {
   "cell_type": "code",
   "execution_count": 120,
   "metadata": {},
   "outputs": [
    {
     "data": {
      "text/plain": [
       "['state',\n",
       " 'of',\n",
       " 'the',\n",
       " 'union',\n",
       " 'address',\n",
       " 'george',\n",
       " 'washington',\n",
       " 'january',\n",
       " '8',\n",
       " ',']"
      ]
     },
     "execution_count": 120,
     "metadata": {},
     "output_type": "execute_result"
    }
   ],
   "source": [
    "state_union_part1_filtered_tokens[:10]"
   ]
  },
  {
   "cell_type": "markdown",
   "metadata": {},
   "source": [
    "# # Removing punctuations"
   ]
  },
  {
   "cell_type": "code",
   "execution_count": null,
   "metadata": {
    "collapsed": true
   },
   "outputs": [],
   "source": [
    "# Removing punctuations\n",
    "import string \n",
    "string.punctuation\n",
    "state_union_part1_filtered_tokens_nopunc =  [ w for w in state_union_part1_filtered_tokens if w not in string.punctuation]"
   ]
  },
  {
   "cell_type": "code",
   "execution_count": 87,
   "metadata": {},
   "outputs": [
    {
     "data": {
      "text/plain": [
       "['state',\n",
       " 'of',\n",
       " 'the',\n",
       " 'union',\n",
       " 'address',\n",
       " 'george',\n",
       " 'washington',\n",
       " 'january',\n",
       " '8',\n",
       " '1790']"
      ]
     },
     "execution_count": 87,
     "metadata": {},
     "output_type": "execute_result"
    }
   ],
   "source": [
    "state_union_part1_filtered_tokens_nopunc[:10]"
   ]
  },
  {
   "cell_type": "markdown",
   "metadata": {},
   "source": [
    "# # Cleaning the dataset . Removing numbers and punctuations\n",
    "I have also created another dataset with no numbers and punctuations"
   ]
  },
  {
   "cell_type": "code",
   "execution_count": 121,
   "metadata": {
    "collapsed": true
   },
   "outputs": [],
   "source": [
    "# Cleaning the dataset . Removing numbers and punctuations\n",
    "state_union_part1_filtered_tokens_clean = [ w for w in state_union_part1_filtered_tokens if w.isalpha()]"
   ]
  },
  {
   "cell_type": "code",
   "execution_count": 122,
   "metadata": {},
   "outputs": [
    {
     "data": {
      "text/plain": [
       "['state',\n",
       " 'of',\n",
       " 'the',\n",
       " 'union',\n",
       " 'address',\n",
       " 'george',\n",
       " 'washington',\n",
       " 'january',\n",
       " 'of',\n",
       " 'the']"
      ]
     },
     "execution_count": 122,
     "metadata": {},
     "output_type": "execute_result"
    }
   ],
   "source": [
    "state_union_part1_filtered_tokens_clean[:10]"
   ]
  },
  {
   "cell_type": "code",
   "execution_count": 123,
   "metadata": {},
   "outputs": [
    {
     "data": {
      "text/plain": [
       "['i',\n",
       " 'me',\n",
       " 'my',\n",
       " 'myself',\n",
       " 'we',\n",
       " 'our',\n",
       " 'ours',\n",
       " 'ourselves',\n",
       " 'you',\n",
       " \"you're\",\n",
       " \"you've\",\n",
       " \"you'll\",\n",
       " \"you'd\",\n",
       " 'your',\n",
       " 'yours',\n",
       " 'yourself',\n",
       " 'yourselves',\n",
       " 'he',\n",
       " 'him',\n",
       " 'his',\n",
       " 'himself',\n",
       " 'she',\n",
       " \"she's\",\n",
       " 'her',\n",
       " 'hers',\n",
       " 'herself',\n",
       " 'it',\n",
       " \"it's\",\n",
       " 'its',\n",
       " 'itself',\n",
       " 'they',\n",
       " 'them',\n",
       " 'their',\n",
       " 'theirs',\n",
       " 'themselves',\n",
       " 'what',\n",
       " 'which',\n",
       " 'who',\n",
       " 'whom',\n",
       " 'this',\n",
       " 'that',\n",
       " \"that'll\",\n",
       " 'these',\n",
       " 'those',\n",
       " 'am',\n",
       " 'is',\n",
       " 'are',\n",
       " 'was',\n",
       " 'were',\n",
       " 'be',\n",
       " 'been',\n",
       " 'being',\n",
       " 'have',\n",
       " 'has',\n",
       " 'had',\n",
       " 'having',\n",
       " 'do',\n",
       " 'does',\n",
       " 'did',\n",
       " 'doing',\n",
       " 'a',\n",
       " 'an',\n",
       " 'the',\n",
       " 'and',\n",
       " 'but',\n",
       " 'if',\n",
       " 'or',\n",
       " 'because',\n",
       " 'as',\n",
       " 'until',\n",
       " 'while',\n",
       " 'of',\n",
       " 'at',\n",
       " 'by',\n",
       " 'for',\n",
       " 'with',\n",
       " 'about',\n",
       " 'against',\n",
       " 'between',\n",
       " 'into',\n",
       " 'through',\n",
       " 'during',\n",
       " 'before',\n",
       " 'after',\n",
       " 'above',\n",
       " 'below',\n",
       " 'to',\n",
       " 'from',\n",
       " 'up',\n",
       " 'down',\n",
       " 'in',\n",
       " 'out',\n",
       " 'on',\n",
       " 'off',\n",
       " 'over',\n",
       " 'under',\n",
       " 'again',\n",
       " 'further',\n",
       " 'then',\n",
       " 'once',\n",
       " 'here',\n",
       " 'there',\n",
       " 'when',\n",
       " 'where',\n",
       " 'why',\n",
       " 'how',\n",
       " 'all',\n",
       " 'any',\n",
       " 'both',\n",
       " 'each',\n",
       " 'few',\n",
       " 'more',\n",
       " 'most',\n",
       " 'other',\n",
       " 'some',\n",
       " 'such',\n",
       " 'no',\n",
       " 'nor',\n",
       " 'not',\n",
       " 'only',\n",
       " 'own',\n",
       " 'same',\n",
       " 'so',\n",
       " 'than',\n",
       " 'too',\n",
       " 'very',\n",
       " 's',\n",
       " 't',\n",
       " 'can',\n",
       " 'will',\n",
       " 'just',\n",
       " 'don',\n",
       " \"don't\",\n",
       " 'should',\n",
       " \"should've\",\n",
       " 'now',\n",
       " 'd',\n",
       " 'll',\n",
       " 'm',\n",
       " 'o',\n",
       " 're',\n",
       " 've',\n",
       " 'y',\n",
       " 'ain',\n",
       " 'aren',\n",
       " \"aren't\",\n",
       " 'couldn',\n",
       " \"couldn't\",\n",
       " 'didn',\n",
       " \"didn't\",\n",
       " 'doesn',\n",
       " \"doesn't\",\n",
       " 'hadn',\n",
       " \"hadn't\",\n",
       " 'hasn',\n",
       " \"hasn't\",\n",
       " 'haven',\n",
       " \"haven't\",\n",
       " 'isn',\n",
       " \"isn't\",\n",
       " 'ma',\n",
       " 'mightn',\n",
       " \"mightn't\",\n",
       " 'mustn',\n",
       " \"mustn't\",\n",
       " 'needn',\n",
       " \"needn't\",\n",
       " 'shan',\n",
       " \"shan't\",\n",
       " 'shouldn',\n",
       " \"shouldn't\",\n",
       " 'wasn',\n",
       " \"wasn't\",\n",
       " 'weren',\n",
       " \"weren't\",\n",
       " 'won',\n",
       " \"won't\",\n",
       " 'wouldn',\n",
       " \"wouldn't\"]"
      ]
     },
     "execution_count": 123,
     "metadata": {},
     "output_type": "execute_result"
    }
   ],
   "source": [
    "from nltk.corpus import stopwords\n",
    "stop_words = stopwords.words('english')\n",
    "stop_words"
   ]
  },
  {
   "cell_type": "code",
   "execution_count": 124,
   "metadata": {
    "collapsed": true
   },
   "outputs": [],
   "source": [
    "state_union_part1_filtered_tokens_clean_stop = [ w for w in state_union_part1_filtered_tokens_clean if w not in stop_words ]"
   ]
  },
  {
   "cell_type": "code",
   "execution_count": 149,
   "metadata": {},
   "outputs": [
    {
     "data": {
      "text/plain": [
       "272117"
      ]
     },
     "execution_count": 149,
     "metadata": {},
     "output_type": "execute_result"
    }
   ],
   "source": [
    "#Number of stop words detected\n",
    "state_union_part1_stopwordscount = [ w for w in state_union_part1_filtered_tokens_clean if w in stop_words ]\n",
    "len(state_union_part1_stopwordscount)"
   ]
  },
  {
   "cell_type": "code",
   "execution_count": 125,
   "metadata": {},
   "outputs": [
    {
     "data": {
      "text/plain": [
       "237642"
      ]
     },
     "execution_count": 125,
     "metadata": {},
     "output_type": "execute_result"
    }
   ],
   "source": [
    "len(state_union_part1_filtered_tokens_clean_stop)"
   ]
  },
  {
   "cell_type": "code",
   "execution_count": null,
   "metadata": {},
   "outputs": [],
   "source": [
    "#Performing similar function on dataset with numbers but with no punctuations"
   ]
  },
  {
   "cell_type": "code",
   "execution_count": 126,
   "metadata": {},
   "outputs": [
    {
     "data": {
      "text/plain": [
       "['state',\n",
       " 'union',\n",
       " 'address',\n",
       " 'george',\n",
       " 'washington',\n",
       " 'january',\n",
       " '8',\n",
       " '1790',\n",
       " 'fellow-citizens',\n",
       " 'senate']"
      ]
     },
     "execution_count": 126,
     "metadata": {},
     "output_type": "execute_result"
    }
   ],
   "source": [
    "state_union_part1_filtered_tokens_nopunc_stop =  [ w for w in state_union_part1_filtered_tokens_nopunc if w not in stop_words]\n",
    "state_union_part1_filtered_tokens_nopunc_stop[:10]"
   ]
  },
  {
   "cell_type": "markdown",
   "metadata": {},
   "source": [
    "# Frequency Distribution of Speech Part 1"
   ]
  },
  {
   "cell_type": "code",
   "execution_count": 127,
   "metadata": {
    "collapsed": true
   },
   "outputs": [],
   "source": [
    "#Frequency Distribution\n",
    "from nltk import FreqDist"
   ]
  },
  {
   "cell_type": "code",
   "execution_count": 128,
   "metadata": {
    "collapsed": true
   },
   "outputs": [],
   "source": [
    "Fdist1 = FreqDist(state_union_part1_filtered_tokens_clean_stop)"
   ]
  },
  {
   "cell_type": "code",
   "execution_count": 129,
   "metadata": {},
   "outputs": [
    {
     "data": {
      "text/plain": [
       "[('states', 2725),\n",
       " ('government', 2220),\n",
       " ('united', 1864),\n",
       " ('may', 1561),\n",
       " ('congress', 1500),\n",
       " ('upon', 1455),\n",
       " ('would', 1381),\n",
       " ('public', 1375),\n",
       " ('country', 1162),\n",
       " ('great', 1073),\n",
       " ('made', 1061),\n",
       " ('state', 969),\n",
       " ('last', 910),\n",
       " ('war', 834),\n",
       " ('present', 811),\n",
       " ('time', 808),\n",
       " ('people', 786),\n",
       " ('year', 785),\n",
       " ('power', 744),\n",
       " ('citizens', 723),\n",
       " ('subject', 711),\n",
       " ('shall', 694),\n",
       " ('without', 662),\n",
       " ('act', 627),\n",
       " ('treaty', 624),\n",
       " ('one', 620),\n",
       " ('part', 618),\n",
       " ('mexico', 605),\n",
       " ('general', 601),\n",
       " ('every', 590),\n",
       " ('treasury', 590),\n",
       " ('necessary', 575),\n",
       " ('union', 567),\n",
       " ('constitution', 557),\n",
       " ('new', 548),\n",
       " ('duty', 529),\n",
       " ('foreign', 519),\n",
       " ('two', 510),\n",
       " ('commerce', 506),\n",
       " ('nations', 502),\n",
       " ('peace', 501),\n",
       " ('system', 494),\n",
       " ('laws', 490),\n",
       " ('duties', 488),\n",
       " ('within', 479),\n",
       " ('law', 477),\n",
       " ('us', 462),\n",
       " ('interests', 451),\n",
       " ('interest', 444),\n",
       " ('amount', 443)]"
      ]
     },
     "execution_count": 129,
     "metadata": {},
     "output_type": "execute_result"
    }
   ],
   "source": [
    "Fdist1.most_common(50)"
   ]
  },
  {
   "cell_type": "code",
   "execution_count": 150,
   "metadata": {},
   "outputs": [
    {
     "data": {
      "text/plain": [
       "237642"
      ]
     },
     "execution_count": 150,
     "metadata": {},
     "output_type": "execute_result"
    }
   ],
   "source": [
    "#Lenth of tokens after removing stop words, punctuations and numbers\n",
    "len(state_union_part1_filtered_tokens_clean_stop)"
   ]
  },
  {
   "cell_type": "code",
   "execution_count": 130,
   "metadata": {},
   "outputs": [
    {
     "name": "stdout",
     "output_type": "stream",
     "text": [
      "('states', 0.01146682825426482)\n",
      "('government', 0.009341783018153357)\n",
      "('united', 0.00784373132695399)\n",
      "('may', 0.006568704185287113)\n",
      "('congress', 0.006312015552806322)\n",
      "('upon', 0.006122655086222132)\n",
      "('would', 0.005811262318950354)\n",
      "('public', 0.005786014256739129)\n",
      "('country', 0.004889708048240631)\n",
      "('great', 0.004515195125440789)\n",
      "('made', 0.004464699001018338)\n",
      "('state', 0.004077562047112884)\n",
      "('last', 0.0038292894353691687)\n",
      "('war', 0.0035094806473603152)\n",
      "('present', 0.0034126964088839517)\n",
      "('time', 0.0034000723777783386)\n",
      "('people', 0.0033074961496705126)\n",
      "('year', 0.003303288139301975)\n",
      "('power', 0.003130759714191936)\n",
      "('citizens', 0.0030423914964526474)\n",
      "('subject', 0.0029918953720301966)\n",
      "('shall', 0.0029203591957650582)\n",
      "('without', 0.002785702863971857)\n",
      "('act', 0.0026384225010730425)\n",
      "('treaty', 0.00262579846996743)\n",
      "('one', 0.00260896642849328)\n",
      "('part', 0.0026005504077562048)\n",
      "('mexico', 0.0025458462729652164)\n",
      "('general', 0.0025290142314910663)\n",
      "('every', 0.0024827261174371535)\n",
      "('treasury', 0.0024827261174371535)\n",
      "('necessary', 0.00241960596190909)\n",
      "('union', 0.00238594187896079)\n",
      "('constitution', 0.002343861775275414)\n",
      "('new', 0.0023059896819585765)\n",
      "('duty', 0.002226037484956363)\n",
      "('foreign', 0.0021839573812709873)\n",
      "('two', 0.0021460852879541495)\n",
      "('commerce', 0.0021292532464799994)\n",
      "('nations', 0.0021124212050058493)\n",
      "('peace', 0.0021082131946373118)\n",
      "('system', 0.0020787571220575486)\n",
      "('laws', 0.0020619250805833985)\n",
      "('duties', 0.0020535090598463234)\n",
      "('within', 0.0020156369665294857)\n",
      "('law', 0.0020072209457924106)\n",
      "('us', 0.0019441007902643473)\n",
      "('interests', 0.0018978126762104342)\n",
      "('interest', 0.0018683566036306713)\n",
      "('amount', 0.0018641485932621338)\n"
     ]
    }
   ],
   "source": [
    "#Normalizing the most common words by length of document\n",
    "for w in Fdist1.most_common(50):\n",
    "    normalized_freq_part1 = (w[0], w[1]/len(state_union_part1_filtered_tokens_clean_stop))\n",
    "    print(normalized_freq_part1)\n",
    "                  "
   ]
  },
  {
   "cell_type": "markdown",
   "metadata": {},
   "source": [
    "# Question 2 ( b)  - Bigram by frequency"
   ]
  },
  {
   "cell_type": "code",
   "execution_count": 114,
   "metadata": {
    "collapsed": true
   },
   "outputs": [],
   "source": [
    "from nltk.collocations import *"
   ]
  },
  {
   "cell_type": "code",
   "execution_count": 115,
   "metadata": {
    "collapsed": true
   },
   "outputs": [],
   "source": [
    "bigram_measures = nltk.collocations.BigramAssocMeasures()"
   ]
  },
  {
   "cell_type": "code",
   "execution_count": 144,
   "metadata": {
    "collapsed": true
   },
   "outputs": [],
   "source": [
    "\n",
    "finder = BigramCollocationFinder.from_words(state_union_part1_filtered_tokens_clean)\n"
   ]
  },
  {
   "cell_type": "code",
   "execution_count": 145,
   "metadata": {
    "collapsed": true
   },
   "outputs": [],
   "source": [
    "scored = finder.score_ngrams(bigram_measures.raw_freq)"
   ]
  },
  {
   "cell_type": "code",
   "execution_count": 146,
   "metadata": {},
   "outputs": [
    {
     "name": "stdout",
     "output_type": "stream",
     "text": [
      "(('of', 'the'), 0.023024605745067768)\n",
      "(('to', 'the'), 0.007791917357025575)\n",
      "(('in', 'the'), 0.0060185303251144165)\n",
      "(('by', 'the'), 0.00400189108971102)\n",
      "(('for', 'the'), 0.0036840938561163218)\n",
      "(('united', 'states'), 0.003574238022281117)\n",
      "(('the', 'united'), 0.0035487357751408017)\n",
      "(('and', 'the'), 0.003311368705604021)\n",
      "(('on', 'the'), 0.0032211299849536743)\n",
      "(('of', 'our'), 0.0030936187492520977)\n",
      "(('it', 'is'), 0.002868021947626231)\n",
      "(('to', 'be'), 0.002866060236307745)\n",
      "(('have', 'been'), 0.002632616589407936)\n",
      "(('with', 'the'), 0.0025090287763433307)\n",
      "(('that', 'the'), 0.002454100859425729)\n",
      "(('has', 'been'), 0.002422713478329956)\n",
      "(('from', 'the'), 0.0021421887597864874)\n",
      "(('of', 'a'), 0.0019126685355236495)\n",
      "(('the', 'public'), 0.0017988892790514732)\n",
      "(('will', 'be'), 0.0016831483112608114)\n",
      "(('the', 'government'), 0.0016478375075280672)\n",
      "(('at', 'the'), 0.0015046325812786041)\n",
      "(('may', 'be'), 0.001306499738111539)\n",
      "(('of', 'congress'), 0.0012692272230603089)\n",
      "(('and', 'to'), 0.0012319547080090788)\n",
      "(('upon', 'the'), 0.0011220988741738743)\n",
      "(('of', 'this'), 0.0011044434723075022)\n",
      "(('of', 'their'), 0.0011024817609890164)\n",
      "(('the', 'same'), 0.0011024817609890164)\n",
      "(('the', 'present'), 0.0010887497817596158)\n",
      "(('the', 'people'), 0.001010281329020184)\n",
      "(('between', 'the'), 0.0009965493497907836)\n",
      "(('all', 'the'), 0.0009847790818798686)\n",
      "(('in', 'a'), 0.000982817370561383)\n",
      "(('under', 'the'), 0.0009710471026504682)\n",
      "(('the', 'country'), 0.0009612385460580392)\n",
      "(('which', 'the'), 0.0009573151234210676)\n",
      "(('of', 'that'), 0.0009553534121025818)\n",
      "(('should', 'be'), 0.0009337745875992381)\n",
      "(('it', 'was'), 0.0009298511649622665)\n",
      "(('the', 'treasury'), 0.0009278894536437807)\n",
      "(('would', 'be'), 0.0008553061348598063)\n",
      "(('the', 'last'), 0.0008494210009043489)\n",
      "(('part', 'of'), 0.0008396124443119199)\n",
      "(('the', 'constitution'), 0.0008376507329934342)\n",
      "(('state', 'of'), 0.000829803887719491)\n",
      "(('can', 'not'), 0.0008160719084900904)\n",
      "(('the', 'most'), 0.0008141101971716046)\n",
      "(('the', 'union'), 0.000800378217942204)\n",
      "(('and', 'of'), 0.0007984165066237183)\n"
     ]
    }
   ],
   "source": [
    "for bscore in scored[:50]:\n",
    "    print (bscore)"
   ]
  },
  {
   "cell_type": "markdown",
   "metadata": {},
   "source": [
    "# Question 2 ( c)  - Bigram by mutual information score"
   ]
  },
  {
   "cell_type": "code",
   "execution_count": 147,
   "metadata": {
    "collapsed": true
   },
   "outputs": [],
   "source": [
    "finder.apply_freq_filter(5)\n",
    "scored_pmi = finder.score_ngrams(bigram_measures.pmi)"
   ]
  },
  {
   "cell_type": "code",
   "execution_count": 148,
   "metadata": {},
   "outputs": [
    {
     "name": "stdout",
     "output_type": "stream",
     "text": [
      "(('bona', 'fide'), 16.637527721376898)\n",
      "(('posse', 'comitatus'), 16.637527721376898)\n",
      "(('punta', 'arenas'), 16.637527721376898)\n",
      "(('ballot', 'box'), 16.374493315543102)\n",
      "(('del', 'norte'), 16.374493315543102)\n",
      "(('guadalupe', 'hidalgo'), 15.789530814821948)\n",
      "(('porto', 'rico'), 15.789530814821944)\n",
      "(('la', 'plata'), 15.500024197626958)\n",
      "(('vera', 'cruz'), 15.374493315543102)\n",
      "(('entangling', 'alliances'), 15.304103987651704)\n",
      "(('van', 'buren'), 15.259016098123167)\n",
      "(('quincy', 'adams'), 15.152100894206653)\n",
      "(('gun', 'boats'), 14.982175892764339)\n",
      "(('nucleus', 'around'), 14.95945581626426)\n",
      "(('costa', 'rica'), 14.959455816264256)\n",
      "(('santa', 'anna'), 14.87199297501392)\n",
      "(('santa', 'fe'), 14.871992975013917)\n",
      "(('sublime', 'porte'), 14.83017279931929)\n",
      "(('ad', 'valorem'), 14.637527721376896)\n",
      "(('beacons', 'buoys'), 14.500024197626962)\n",
      "(('water', 'witch'), 14.500024197626962)\n",
      "(('john', 'quincy'), 14.50002419762696)\n",
      "(('andrew', 'jackson'), 14.485524627931849)\n",
      "(('statute', 'book'), 14.435893860207244)\n",
      "(('buenos', 'ayres'), 14.3744933155431)\n",
      "(('th', 'jefferson'), 14.259016098123166)\n",
      "(('de', 'facto'), 14.226101475650431)\n",
      "(('franking', 'privilege'), 14.20456831410079)\n",
      "(('rocky', 'mountains'), 14.15210089420665)\n",
      "(('thomas', 'jefferson'), 14.089091096680852)\n",
      "(('retired', 'list'), 14.01459737045672)\n",
      "(('circulating', 'medium'), 13.915061696905806)\n",
      "(('precious', 'metals'), 13.81309928596035)\n",
      "(('lake', 'erie'), 13.730637125768377)\n",
      "(('almighty', 'god'), 13.702067973571605)\n",
      "(('san', 'jacinto'), 13.674053597402011)\n",
      "(('san', 'francisco'), 13.67405359740201)\n",
      "(('san', 'juan'), 13.674053597402008)\n",
      "(('per', 'cent'), 13.601903811646174)\n",
      "(('rio', 'grande'), 13.567138393485498)\n",
      "(('james', 'polk'), 13.50002419762696)\n",
      "(('inferior', 'quality'), 13.49348135176019)\n",
      "(('grateful', 'acknowledgments'), 13.467602719934582)\n",
      "(('hudsons', 'bay'), 13.404866964586619)\n",
      "(('cumberland', 'road'), 13.243248782264848)\n",
      "(('cut', 'off'), 13.178096102739596)\n",
      "(('predatory', 'incursions'), 13.121512574373233)\n",
      "(('topographical', 'engineers'), 13.05256522065574)\n",
      "(('sinking', 'fund'), 12.989829465307777)\n",
      "(('mature', 'deliberation'), 12.937088003235806)\n"
     ]
    }
   ],
   "source": [
    "for bscore in scored_pmi[:50]:\n",
    "    \n",
    "    print (bscore)"
   ]
  },
  {
   "cell_type": "code",
   "execution_count": null,
   "metadata": {
    "collapsed": true
   },
   "outputs": [],
   "source": []
  },
  {
   "cell_type": "code",
   "execution_count": null,
   "metadata": {
    "collapsed": true
   },
   "outputs": [],
   "source": []
  }
 ],
 "metadata": {
  "kernelspec": {
   "display_name": "Python 3",
   "language": "python",
   "name": "python3"
  },
  "language_info": {
   "codemirror_mode": {
    "name": "ipython",
    "version": 3
   },
   "file_extension": ".py",
   "mimetype": "text/x-python",
   "name": "python",
   "nbconvert_exporter": "python",
   "pygments_lexer": "ipython3",
   "version": "3.6.3"
  }
 },
 "nbformat": 4,
 "nbformat_minor": 2
}
